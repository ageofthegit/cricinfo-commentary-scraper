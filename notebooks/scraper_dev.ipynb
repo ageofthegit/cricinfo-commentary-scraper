{
 "cells": [
  {
   "cell_type": "code",
   "execution_count": 3,
   "source": [
    "from requests import Request"
   ],
   "outputs": [],
   "metadata": {}
  },
  {
   "cell_type": "code",
   "execution_count": 4,
   "source": [],
   "outputs": [
    {
     "output_type": "stream",
     "name": "stdout",
     "text": [
      "this is a change\n"
     ]
    }
   ],
   "metadata": {}
  }
 ],
 "metadata": {
  "orig_nbformat": 4,
  "language_info": {
   "name": "python",
   "version": "3.9.6",
   "mimetype": "text/x-python",
   "codemirror_mode": {
    "name": "ipython",
    "version": 3
   },
   "pygments_lexer": "ipython3",
   "nbconvert_exporter": "python",
   "file_extension": ".py"
  },
  "kernelspec": {
   "name": "python3",
   "display_name": "Python 3.9.6 64-bit ('scraper-env': conda)"
  },
  "interpreter": {
   "hash": "3a298bed3e2f745d64a29fa84ee8291a6ab9d01e6f8f4494b1e65bc132cbb885"
  }
 },
 "nbformat": 4,
 "nbformat_minor": 2
}